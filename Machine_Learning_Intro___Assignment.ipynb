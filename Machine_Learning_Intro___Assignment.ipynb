{
  "nbformat": 4,
  "nbformat_minor": 0,
  "metadata": {
    "colab": {
      "provenance": []
    },
    "kernelspec": {
      "name": "python3",
      "display_name": "Python 3"
    },
    "language_info": {
      "name": "python"
    }
  },
  "cells": [
    {
      "cell_type": "markdown",
      "source": [
        "Assignment Code: DA-AG-008\n",
        "\n",
        "\n",
        "#Machine Learning Intro | Assignment\n",
        "\n",
        "\n",
        "#Question 1: Explain the differences between AI, ML, Deep Learning (DL), and Data Science (DS).\n",
        "\n",
        "#.\n",
        "Artificial Intelligence (AI):\n",
        "Broad field of making machines “think” and act intelligently like humans.\n",
        "\n",
        "Machine Learning (ML):\n",
        "A subset of AI where machines learn from data and improve without being explicitly programmed.\n",
        "\n",
        "Deep Learning (DL):\n",
        "A subset of ML that uses neural networks with many layers to learn complex patterns (e.g., image recognition, speech).\n",
        "\n",
        "Data Science (DS):\n",
        "Field focused on extracting insights and knowledge from data using statistics, ML, and domain expertise."
      ],
      "metadata": {
        "id": "t6THtzHlRBFF"
      }
    },
    {
      "cell_type": "markdown",
      "source": [
        "#Question 2: What are the types of machine learning? Describe each with one real-world example.\n",
        "\n",
        "\n",
        "Machine Learning has three main types:\n",
        "\n",
        "Supervised Learning – The model is trained on labeled data (input + correct output).\n",
        "Example: Predicting house prices based on size, location, etc.\n",
        "\n",
        "Unsupervised Learning – The model finds hidden patterns in unlabeled data.\n",
        "Example: Customer segmentation in marketing.\n",
        "\n",
        "Reinforcement Learning – The model learns by interacting with an environment and receiving rewards or penalties.\n",
        "Example: Training a robot to walk or self-driving cars learning to navigate."
      ],
      "metadata": {
        "id": "DEGLgkvTR5wp"
      }
    },
    {
      "cell_type": "markdown",
      "source": [
        "#Question 3: Define overfitting, underfitting, and the bias-variance tradeoff in machine learning.\n",
        "\n",
        "\n",
        "\n",
        "1.Overfitting: Model learns training data too well (including noise), performs poorly on new data.\n",
        "\n",
        "2.Underfitting: Model is too simple, fails to capture patterns in data.\n",
        "\n",
        "3.Bias-Variance Tradeoff: Balancing error from overly simple models (high bias) vs. overly complex models (high variance) to achieve good generalization"
      ],
      "metadata": {
        "id": "0Y6KL-H0SXWe"
      }
    },
    {
      "cell_type": "markdown",
      "source": [
        "#Question 4: What are outliers in a dataset, and list three common techniques for handling them.\n",
        "\n",
        "\n",
        "\n",
        "Outliers: Data points that differ significantly from most of the dataset, often due to variability or errors.\n",
        "\n",
        "Common techniques to handle them:\n",
        "\n",
        "1.Removal – Delete extreme values if they are errors.\n",
        "\n",
        "2.Transformation – Apply log/Box-Cox scaling to reduce impact.\n",
        "\n",
        "3.Imputation/Replacement – Replace with mean, median, or use capping (e.g., winsorization)."
      ],
      "metadata": {
        "id": "ZZ1jmfTMS2qp"
      }
    },
    {
      "cell_type": "markdown",
      "source": [
        "#Question 5: Explain the process of handling missing values and mention one imputation technique for numerical and one for categorical data.\n",
        "\n",
        "\n",
        "Handling missing values involves detecting them, analyzing the reason, and then treating them by removal or imputation.\n",
        "\n",
        ". Numerical data imputation: Replace with mean/median.\n",
        "\n",
        ". Categorical data imputation: Replace with mode (most frequent value).\n",
        "\n"
      ],
      "metadata": {
        "id": "13lMBC51TRAl"
      }
    },
    {
      "cell_type": "markdown",
      "source": [
        "#Question 6: Write a Python program that:\n",
        "\n",
        "● Creates a synthetic imbalanced dataset with make_classification() from\n",
        "sklearn.datasets.\n",
        "\n",
        "● Prints the class distribution.\n"
      ],
      "metadata": {
        "id": "CzJaUywnTrg4"
      }
    },
    {
      "cell_type": "code",
      "source": [
        "from sklearn.datasets import make_classification\n",
        "import numpy as np\n",
        "from collections import Counter\n",
        "\n",
        "# Create synthetic imbalanced dataset\n",
        "X, y = make_classification(n_samples=1000, n_features=10, n_classes=2,\n",
        "                           n_informative=2, n_redundant=0,\n",
        "                           weights=[0.9, 0.1], random_state=42)\n",
        "\n",
        "# Print class distribution\n",
        "class_distribution = Counter(y)\n",
        "print(\"Class distribution:\", class_distribution)\n"
      ],
      "metadata": {
        "colab": {
          "base_uri": "https://localhost:8080/"
        },
        "id": "dhKvsb7zUEXM",
        "outputId": "a54d7d50-c4a4-49ef-9957-930e7b362c74"
      },
      "execution_count": 1,
      "outputs": [
        {
          "output_type": "stream",
          "name": "stdout",
          "text": [
            "Class distribution: Counter({np.int64(0): 897, np.int64(1): 103})\n"
          ]
        }
      ]
    },
    {
      "cell_type": "markdown",
      "source": [
        "#Question 7: Implement one-hot encoding using pandas for the following list of colors:\n",
        "['Red', 'Green', 'Blue', 'Green', 'Red']. Print the resulting dataframe."
      ],
      "metadata": {
        "id": "g6VYm2e4UwNV"
      }
    },
    {
      "cell_type": "code",
      "source": [
        "import pandas as pd\n",
        "\n",
        "# List of colors\n",
        "colors = ['Red', 'Green', 'Blue', 'Green', 'Red']\n",
        "\n",
        "# Create DataFrame\n",
        "df = pd.DataFrame(colors, columns=['Color'])\n",
        "\n",
        "# Apply one-hot encoding\n",
        "df_encoded = pd.get_dummies(df, columns=['Color'])\n",
        "\n",
        "# Print the resulting DataFrame\n",
        "print(df_encoded)\n"
      ],
      "metadata": {
        "colab": {
          "base_uri": "https://localhost:8080/"
        },
        "id": "nCBLp3R6U5P_",
        "outputId": "4b4f849c-4d59-4811-f84b-6bcc92389a11"
      },
      "execution_count": 3,
      "outputs": [
        {
          "output_type": "stream",
          "name": "stdout",
          "text": [
            "   Color_Blue  Color_Green  Color_Red\n",
            "0       False        False       True\n",
            "1       False         True      False\n",
            "2        True        False      False\n",
            "3       False         True      False\n",
            "4       False        False       True\n"
          ]
        }
      ]
    },
    {
      "cell_type": "markdown",
      "source": [
        "#Question 8: Write a Python script to:\n",
        "\n",
        "● Generate 1000 samples from a normal distribution.\n",
        "\n",
        "● Introduce 50 random missing values.\n",
        "\n",
        "● Fill missing values with the column mean.\n",
        "\n",
        "● Plot a histogram before and after imputation."
      ],
      "metadata": {
        "id": "eAZo-fGoVEih"
      }
    },
    {
      "cell_type": "code",
      "source": [
        "import numpy as np\n",
        "import pandas as pd\n",
        "import matplotlib.pyplot as plt\n",
        "\n",
        "# Step 1: Generate 1000 samples from a normal distribution\n",
        "data = np.random.normal(loc=0, scale=1, size=1000)\n",
        "\n",
        "# Convert to DataFrame\n",
        "df = pd.DataFrame(data, columns=['Values'])\n",
        "\n",
        "# Step 2: Introduce 50 random missing values\n",
        "missing_indices = np.random.choice(df.index, 50, replace=False)\n",
        "df.loc[missing_indices, 'Values'] = np.nan\n",
        "\n",
        "# Step 3: Fill missing values with column mean\n",
        "mean_value = df['Values'].mean()\n",
        "df['Imputed'] = df['Values'].fillna(mean_value)\n",
        "\n",
        "# Step 4: Plot histograms before and after imputation\n",
        "plt.figure(figsize=(10, 5))\n",
        "\n",
        "# Before imputation\n",
        "plt.subplot(1, 2, 1)\n",
        "plt.hist(df['Values'].dropna(), bins=30, edgecolor='black')\n",
        "plt.title(\"Before Imputation\")\n",
        "\n",
        "# After imputation\n",
        "plt.subplot(1, 2, 2)\n",
        "plt.hist(df['Imputed'], bins=30, edgecolor='black')\n",
        "plt.title(\"After Imputation\")\n",
        "\n",
        "plt.tight_layout()\n",
        "plt.show()\n"
      ],
      "metadata": {
        "colab": {
          "base_uri": "https://localhost:8080/",
          "height": 507
        },
        "id": "X_hLA7yHVoXY",
        "outputId": "5e5874a0-c34d-4b26-86d8-fe4adbfd5645"
      },
      "execution_count": 4,
      "outputs": [
        {
          "output_type": "display_data",
          "data": {
            "text/plain": [
              "<Figure size 1000x500 with 2 Axes>"
            ],
            "image/png": "[encoded data removed]"
          },
          "metadata": {}
        }
      ]
    },
    {
      "cell_type": "markdown",
      "source": [
        "#Question 9: Implement Min-Max scaling on the following list of numbers [2, 5, 10, 15, 20] using sklearn.preprocessing.MinMaxScaler. Print the scaled array."
      ],
      "metadata": {
        "id": "r1X5GnCEVuRx"
      }
    },
    {
      "cell_type": "code",
      "source": [
        "from sklearn.preprocessing import MinMaxScaler\n",
        "import numpy as np\n",
        "\n",
        "# Data\n",
        "data = np.array([[2], [5], [10], [15], [20]])\n",
        "\n",
        "# Apply Min-Max Scaling\n",
        "scaler = MinMaxScaler()\n",
        "scaled_data = scaler.fit_transform(data)\n",
        "\n",
        "# Print result\n",
        "print(\"Scaled array:\\n\", scaled_data)\n"
      ],
      "metadata": {
        "colab": {
          "base_uri": "https://localhost:8080/"
        },
        "id": "xUW88kmfWIvQ",
        "outputId": "77b2deb5-bc45-4b7a-f002-a8f6918f0683"
      },
      "execution_count": 5,
      "outputs": [
        {
          "output_type": "stream",
          "name": "stdout",
          "text": [
            "Scaled array:\n",
            " [[0.        ]\n",
            " [0.16666667]\n",
            " [0.44444444]\n",
            " [0.72222222]\n",
            " [1.        ]]\n"
          ]
        }
      ]
    },
    {
      "cell_type": "markdown",
      "source": [
        "Question 10: You are working as a data scientist for a retail company. You receive a customer\n",
        "transaction dataset that contains:\n",
        "\n",
        "● Missing ages,\n",
        "\n",
        "● Outliers in transaction amount,\n",
        "\n",
        "● A highly imbalanced target (fraud vs. non-fraud),\n",
        "\n",
        "● Categorical variables like payment method.\n",
        "\n",
        "Explain the step-by-step data preparation plan you’d follow before training a machine learning\n",
        "model. Include how you’d address missing data, outliers, imbalance, and encoding.\n"
      ],
      "metadata": {
        "id": "feUPXZpyWVFA"
      }
    },
    {
      "cell_type": "markdown",
      "source": [
        "1.Train/test split first — do a time-aware or stratified split to prevent leakage; fit all preprocessors on train only.\n",
        "\n",
        "2.Inspect missingness — check MCAR/MAR patterns for age; create an age_missing indicator.\n",
        "\n",
        "3.Impute ages — use median or group-based median (e.g., by country/customer segment) or kNN; consider age bins if useful.\n",
        "\n",
        "4.Handle transaction outliers — don’t drop blindly: detect with IQR/MAD, flag extreme values, apply log1p or RobustScaler, and optionally winsorize/cap (train-only).\n",
        "\n",
        "5.Encode categoricals — low-cardinality → one-hot; high-cardinality → frequency/target encoding with K-fold out-of-fold scheme (or use CatBoost/LightGBM native handling); group rares into “Other.”\n",
        "\n",
        "6.Address class imbalance — use class weights or train-only resampling (SMOTE/undersampling) inside CV folds; optimize threshold by business metric (precision/recall, AUPRC, cost).\n",
        "\n",
        "7.Pipeline & validation — build a reproducible ColumnTransformer/Pipeline (or imblearn Pipeline), use stratified/time CV, log metrics, and preserve all flags/transformers for production.\n",
        "\n",
        "8.Feature engineering & monitoring — add RFM/velocity/merchant/customer stats, then monitor model/data drift and recalibrate thresholds after deployment."
      ],
      "metadata": {
        "id": "1JG06tKgWo1M"
      }
    }
  ]
}